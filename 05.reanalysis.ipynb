{
 "cells": [
  {
   "cell_type": "code",
   "execution_count": 1,
   "metadata": {},
   "outputs": [],
   "source": [
    "from fbprophet import Prophet\n",
    "from fbprophet.diagnostics import cross_validation, performance_metrics\n",
    "from fbprophet.plot import plot_cross_validation_metric\n",
    "\n",
    "from sklearn.metrics import mean_absolute_error\n",
    "import numpy as np\n",
    "\n",
    "\n",
    "import os\n",
    "import pandas as pd\n",
    "from utils import (\n",
    "    ESTACIONES_XLSX,\n",
    "    NCEP_NCAR_XLSX,\n",
    "    NDEFM_XLSX,\n",
    "    PREDICTIONS_FOLDER\n",
    ")"
   ]
  },
  {
   "cell_type": "code",
   "execution_count": 11,
   "metadata": {},
   "outputs": [],
   "source": [
    "ncep_ncar_maximos = pd.read_excel(NCEP_NCAR_XLSX, sheet_name=\"Maximo\", header=0)"
   ]
  },
  {
   "cell_type": "code",
   "execution_count": 53,
   "metadata": {},
   "outputs": [],
   "source": [
    "df_maximos = pd.read_excel(ESTACIONES_XLSX, sheet_name=1, header=1, parse_dates=['Año hid'])\n",
    "df_maximos = df_maximos[['Año hid', 'San Luis Tucuman']]\n",
    "df_maximos = df_maximos[((~df_maximos['San Luis Tucuman'].isnull()).cumsum() == 0).idxmin():]"
   ]
  },
  {
   "cell_type": "code",
   "execution_count": 15,
   "metadata": {},
   "outputs": [
    {
     "data": {
      "text/plain": [
       "array([-26.87, -65.02])"
      ]
     },
     "execution_count": 15,
     "metadata": {},
     "output_type": "execute_result"
    }
   ],
   "source": [
    "df_info_est = pd.read_excel(ESTACIONES_XLSX, sheet_name=0, header=0)\n",
    "df_info_est = df_info_est[df_info_est.Estacion == 'San Luis Tucuman']\n",
    "df_info_est[['lat', 'lon']] = -df_info_est['LAT (S), LONG (W)(º)'].str.split(',', expand=True).astype(float)\n",
    "slt_loc = df_info_est[['lat', 'lon']].values[0]\n",
    "slt_loc"
   ]
  },
  {
   "cell_type": "markdown",
   "metadata": {},
   "source": [
    "# Ayuda: ¿cómo elegir el punto de grilla para comparar con una determinada estación?\n",
    "\n",
    "Si estamos trabajando, por ejemplo, con la estación San Luis cuya `lat = 26.06` y `lon = 66.0`, se debe seleccionar el punto de grilla más cercano a la estación. La latitud más cercana de la grilla es `25°`, la longitud más cercana de la grilla es `65°`, por lo tanto, se debe escoger el punto de grilla cuyo indicativo es `V13`."
   ]
  },
  {
   "cell_type": "code",
   "execution_count": 58,
   "metadata": {},
   "outputs": [],
   "source": [
    "ncep_ncar_closest = ncep_ncar_maximos[['año', 'V13']]\n",
    "ncep_ncar_closest = ncep_ncar_closest[ncep_ncar_closest.año >= df_maximos.iloc[0]['Año hid'].year]\n",
    "ncep_ncar_closest = ncep_ncar_closest[ncep_ncar_closest.año <= df_maximos.iloc[-1]['Año hid'].year]"
   ]
  },
  {
   "cell_type": "code",
   "execution_count": 59,
   "metadata": {},
   "outputs": [
    {
     "data": {
      "text/plain": [
       "50.80190493511898"
      ]
     },
     "execution_count": 59,
     "metadata": {},
     "output_type": "execute_result"
    }
   ],
   "source": [
    "mean_absolute_error(df_maximos[-10:]['San Luis Tucuman'], ncep_ncar_closest[-10:]['V13'])"
   ]
  }
 ],
 "metadata": {
  "kernelspec": {
   "display_name": "Python 3",
   "language": "python",
   "name": "python3"
  },
  "language_info": {
   "codemirror_mode": {
    "name": "ipython",
    "version": 3
   },
   "file_extension": ".py",
   "mimetype": "text/x-python",
   "name": "python",
   "nbconvert_exporter": "python",
   "pygments_lexer": "ipython3",
   "version": "3.7.4"
  }
 },
 "nbformat": 4,
 "nbformat_minor": 4
}
