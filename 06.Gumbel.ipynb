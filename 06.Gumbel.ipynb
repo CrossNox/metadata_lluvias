{
 "cells": [
  {
   "cell_type": "code",
   "execution_count": 237,
   "metadata": {},
   "outputs": [],
   "source": [
    "from scipy.stats import gumbel_r\n",
    "\n",
    "from fbprophet import Prophet\n",
    "from fbprophet.diagnostics import cross_validation, performance_metrics\n",
    "from fbprophet.plot import plot_cross_validation_metric\n",
    "\n",
    "from sklearn.metrics import mean_absolute_error\n",
    "import numpy as np\n",
    "\n",
    "\n",
    "import os\n",
    "import pandas as pd\n",
    "from utils import (\n",
    "    ESTACIONES_XLSX,\n",
    "    NCEP_NCAR_XLSX,\n",
    "    NDEFM_XLSX,\n",
    "    PREDICTIONS_FOLDER,\n",
    "    download_file,\n",
    "    DATA_FOLDER\n",
    ")"
   ]
  },
  {
   "cell_type": "code",
   "execution_count": 125,
   "metadata": {},
   "outputs": [],
   "source": [
    "df_maximos = pd.read_excel(ESTACIONES_XLSX, sheet_name=1, header=1, parse_dates=['Año hid'])\n",
    "df_maximos = df_maximos[['Año hid', 'San Luis Tucuman']]\n",
    "df_maximos = df_maximos[((~df_maximos['San Luis Tucuman'].isnull()).cumsum() == 0).idxmin():]\n",
    "df_maximos = df_maximos[['Año hid', 'San Luis Tucuman']].rename(columns={'Año hid':'ds', 'San Luis Tucuman':'y'})"
   ]
  },
  {
   "cell_type": "code",
   "execution_count": 234,
   "metadata": {},
   "outputs": [],
   "source": [
    "eps = 1e-4\n",
    "returns = [round(1-1/x, 2)+eps for x in range(1, 11)]\n",
    "\n",
    "def gumbel_r_mom(x):\n",
    "    scale = np.sqrt(6)/np.pi * np.std(x)\n",
    "    loc = np.mean(x) - np.euler_gamma*scale\n",
    "    return loc, scale\n",
    "\n",
    "loc, scale = gumbel_r_mom(df_maximos.y)\n",
    "\n",
    "gumb = gumbel_r(loc=loc, scale=scale)"
   ]
  },
  {
   "cell_type": "code",
   "execution_count": 225,
   "metadata": {},
   "outputs": [],
   "source": [
    "pd.DataFrame(gumb.ppf(returns)).to_csv(os.path.join(PREDICTIONS_FOLDER, 'gumbel_ppf.csv'), index=True, header=False)"
   ]
  },
  {
   "cell_type": "code",
   "execution_count": 227,
   "metadata": {},
   "outputs": [],
   "source": [
    "pd.DataFrame(gumb.rvs(size=10)).to_csv(os.path.join(PREDICTIONS_FOLDER, 'gumbel_rvs.csv'), index=True, header=False)"
   ]
  },
  {
   "cell_type": "markdown",
   "metadata": {},
   "source": [
    "# Con la data de Luciano"
   ]
  },
  {
   "cell_type": "code",
   "execution_count": 238,
   "metadata": {},
   "outputs": [
    {
     "data": {
      "application/vnd.jupyter.widget-view+json": {
       "model_id": "6a9880a8fde648a7a98d6d8b9e7b7a2a",
       "version_major": 2,
       "version_minor": 0
      },
      "text/plain": [
       "HBox(children=(FloatProgress(value=0.0, max=388.0), HTML(value='')))"
      ]
     },
     "metadata": {},
     "output_type": "display_data"
    },
    {
     "name": "stdout",
     "output_type": "stream",
     "text": [
      "\n"
     ]
    }
   ],
   "source": [
    "download_file(\"https://raw.githubusercontent.com/LucianoBrum/Metadata_lluvias/master/san_luis_entero.csv\",\n",
    "             os.path.join(DATA_FOLDER, 'san_luis_entero.csv'),\n",
    ")"
   ]
  },
  {
   "cell_type": "code",
   "execution_count": 244,
   "metadata": {},
   "outputs": [],
   "source": [
    "df_maximos = pd.read_csv(os.path.join(DATA_FOLDER, 'san_luis_entero.csv'), index_col=0).rename(columns={'Año hid':'ds', 'San Luis Tucuman':'y'})"
   ]
  },
  {
   "cell_type": "code",
   "execution_count": 246,
   "metadata": {},
   "outputs": [],
   "source": [
    "eps = 1e-4\n",
    "returns = [round(1-1/x, 2)+eps for x in range(1, 11)]\n",
    "\n",
    "def gumbel_r_mom(x):\n",
    "    scale = np.sqrt(6)/np.pi * np.std(x)\n",
    "    loc = np.mean(x) - np.euler_gamma*scale\n",
    "    return loc, scale\n",
    "\n",
    "loc, scale = gumbel_r_mom(df_maximos.y)\n",
    "\n",
    "gumb = gumbel_r(loc=loc, scale=scale)"
   ]
  },
  {
   "cell_type": "code",
   "execution_count": 249,
   "metadata": {},
   "outputs": [],
   "source": [
    "pd.DataFrame(gumb.ppf(returns)).to_csv(os.path.join(PREDICTIONS_FOLDER, 'gumbel_ppf_luc.csv'), index=True, header=False)"
   ]
  },
  {
   "cell_type": "code",
   "execution_count": 250,
   "metadata": {},
   "outputs": [],
   "source": [
    "pd.DataFrame(gumb.rvs(size=10)).to_csv(os.path.join(PREDICTIONS_FOLDER, 'gumbel_rvs_luc.csv'), index=True, header=False)"
   ]
  },
  {
   "cell_type": "code",
   "execution_count": null,
   "metadata": {},
   "outputs": [],
   "source": []
  }
 ],
 "metadata": {
  "kernelspec": {
   "display_name": "Python 3",
   "language": "python",
   "name": "python3"
  },
  "language_info": {
   "codemirror_mode": {
    "name": "ipython",
    "version": 3
   },
   "file_extension": ".py",
   "mimetype": "text/x-python",
   "name": "python",
   "nbconvert_exporter": "python",
   "pygments_lexer": "ipython3",
   "version": "3.7.4"
  }
 },
 "nbformat": 4,
 "nbformat_minor": 4
}
