{
 "cells": [
  {
   "cell_type": "code",
   "execution_count": 659,
   "metadata": {},
   "outputs": [],
   "source": [
    "import requests\n",
    "import os\n",
    "from utils import (\n",
    "    DATA_FOLDER,\n",
    "    download_file,\n",
    "    ggunzip,\n",
    "    ESTACIONES_XLSX,\n",
    "    PREDICTIONS_FOLDER\n",
    ")\n",
    "import pandas as pd\n",
    "import numpy as np\n",
    "\n",
    "from sklearn.metrics import mean_absolute_error\n",
    "\n",
    "pd.options.display.max_rows = None"
   ]
  },
  {
   "cell_type": "markdown",
   "metadata": {},
   "source": [
    "# Download NOAA data"
   ]
  },
  {
   "cell_type": "code",
   "execution_count": 62,
   "metadata": {},
   "outputs": [],
   "source": [
    "URL = \"https://www.ncei.noaa.gov/data/global-historical-climatology-network-daily/archive/daily-summaries-latest.tar.gz\"\n",
    "\n",
    "TAR_GZ = \"daily-summaries-latest.tar.gz\"\n",
    "NOAA_DATA_FOLDER = 'daily-summaries-latest'"
   ]
  },
  {
   "cell_type": "code",
   "execution_count": 63,
   "metadata": {},
   "outputs": [],
   "source": [
    "download_file(URL, os.path.join(DATA_FOLDER, TAR_GZ))"
   ]
  },
  {
   "cell_type": "code",
   "execution_count": 64,
   "metadata": {},
   "outputs": [],
   "source": [
    "ggunzip(os.path.join(DATA_FOLDER, TAR_GZ),\n",
    "       os.path.join(DATA_FOLDER, NOAA_DATA_FOLDER))"
   ]
  },
  {
   "cell_type": "markdown",
   "metadata": {},
   "source": [
    "# Dowload stations information"
   ]
  },
  {
   "cell_type": "code",
   "execution_count": 65,
   "metadata": {},
   "outputs": [],
   "source": [
    "STATIONS_DESC_URL = \"https://www1.ncdc.noaa.gov/pub/data/ghcn/daily/ghcnd-stations.txt\"\n",
    "STATIONS_DESC = \"ghcnd-stations.txt\"\n",
    "download_file(STATIONS_DESC_URL, os.path.join(DATA_FOLDER, STATIONS_DESC))"
   ]
  },
  {
   "cell_type": "code",
   "execution_count": 66,
   "metadata": {},
   "outputs": [],
   "source": [
    "# we just need the location to see if it's close to target station\n",
    "\n",
    "lines = []\n",
    "with open(os.path.join(DATA_FOLDER, STATIONS_DESC)) as f:\n",
    "    for line in f:\n",
    "        lines.append(line.split()[0:3])"
   ]
  },
  {
   "cell_type": "code",
   "execution_count": 638,
   "metadata": {},
   "outputs": [
    {
     "data": {
      "text/html": [
       "<div>\n",
       "<style scoped>\n",
       "    .dataframe tbody tr th:only-of-type {\n",
       "        vertical-align: middle;\n",
       "    }\n",
       "\n",
       "    .dataframe tbody tr th {\n",
       "        vertical-align: top;\n",
       "    }\n",
       "\n",
       "    .dataframe thead th {\n",
       "        text-align: right;\n",
       "    }\n",
       "</style>\n",
       "<table border=\"1\" class=\"dataframe\">\n",
       "  <thead>\n",
       "    <tr style=\"text-align: right;\">\n",
       "      <th></th>\n",
       "      <th>code</th>\n",
       "      <th>lat</th>\n",
       "      <th>lon</th>\n",
       "    </tr>\n",
       "  </thead>\n",
       "  <tbody>\n",
       "    <tr>\n",
       "      <td>0</td>\n",
       "      <td>ACW00011604</td>\n",
       "      <td>17.1167</td>\n",
       "      <td>-61.7833</td>\n",
       "    </tr>\n",
       "    <tr>\n",
       "      <td>1</td>\n",
       "      <td>ACW00011647</td>\n",
       "      <td>17.1333</td>\n",
       "      <td>-61.7833</td>\n",
       "    </tr>\n",
       "    <tr>\n",
       "      <td>2</td>\n",
       "      <td>AE000041196</td>\n",
       "      <td>25.3330</td>\n",
       "      <td>55.5170</td>\n",
       "    </tr>\n",
       "    <tr>\n",
       "      <td>3</td>\n",
       "      <td>AEM00041194</td>\n",
       "      <td>25.2550</td>\n",
       "      <td>55.3640</td>\n",
       "    </tr>\n",
       "    <tr>\n",
       "      <td>4</td>\n",
       "      <td>AEM00041217</td>\n",
       "      <td>24.4330</td>\n",
       "      <td>54.6510</td>\n",
       "    </tr>\n",
       "  </tbody>\n",
       "</table>\n",
       "</div>"
      ],
      "text/plain": [
       "          code      lat       lon\n",
       "0  ACW00011604  17.1167  -61.7833\n",
       "1  ACW00011647  17.1333  -61.7833\n",
       "2  AE000041196  25.3330   55.5170\n",
       "3  AEM00041194  25.2550   55.3640\n",
       "4  AEM00041217  24.4330   54.6510"
      ]
     },
     "execution_count": 638,
     "metadata": {},
     "output_type": "execute_result"
    }
   ],
   "source": [
    "df_est_noaa_desc = pd.DataFrame(lines, columns=[\"code\", \"lat\", \"lon\"])\n",
    "df_est_noaa_desc.head()"
   ]
  },
  {
   "cell_type": "markdown",
   "metadata": {},
   "source": [
    "### distance to San Luis Tucuman\n"
   ]
  },
  {
   "cell_type": "code",
   "execution_count": 588,
   "metadata": {},
   "outputs": [],
   "source": [
    "from geopy.distance import geodesic\n",
    "def km_geodesic(x, y):\n",
    "    return geodesic(x, y).km\n",
    "\n",
    "from functools import partial"
   ]
  },
  {
   "cell_type": "code",
   "execution_count": 648,
   "metadata": {},
   "outputs": [],
   "source": [
    "df_info_est = pd.read_excel(ESTACIONES_XLSX, sheet_name=0, header=0)\n",
    "df_info_est = df_info_est[df_info_est.Estacion == 'San Luis Tucuman']\n",
    "df_info_est[['lat', 'lon']] = -df_info_est['LAT (S), LONG (W)(º)'].str.split(',', expand=True).astype(float)\n",
    "slt_loc = df_info_est[['lat', 'lon']].values[0]"
   ]
  },
  {
   "cell_type": "code",
   "execution_count": 649,
   "metadata": {},
   "outputs": [],
   "source": [
    "dist_to_slt = partial(km_geodesic, slt_loc)"
   ]
  },
  {
   "cell_type": "code",
   "execution_count": 650,
   "metadata": {},
   "outputs": [],
   "source": [
    "df_est_noaa_desc['dist_to_slt'] = df_est_noaa_desc[['lat', 'lon']].apply(lambda x: tuple(x), axis=1).apply(dist_to_slt)"
   ]
  },
  {
   "cell_type": "code",
   "execution_count": 651,
   "metadata": {},
   "outputs": [
    {
     "data": {
      "text/html": [
       "<div>\n",
       "<style scoped>\n",
       "    .dataframe tbody tr th:only-of-type {\n",
       "        vertical-align: middle;\n",
       "    }\n",
       "\n",
       "    .dataframe tbody tr th {\n",
       "        vertical-align: top;\n",
       "    }\n",
       "\n",
       "    .dataframe thead th {\n",
       "        text-align: right;\n",
       "    }\n",
       "</style>\n",
       "<table border=\"1\" class=\"dataframe\">\n",
       "  <thead>\n",
       "    <tr style=\"text-align: right;\">\n",
       "      <th></th>\n",
       "      <th>code</th>\n",
       "      <th>lat</th>\n",
       "      <th>lon</th>\n",
       "      <th>dist_to_slt</th>\n",
       "      <th>inv_dist_to_slt</th>\n",
       "    </tr>\n",
       "  </thead>\n",
       "  <tbody>\n",
       "    <tr>\n",
       "      <td>288</td>\n",
       "      <td>ARM00087121</td>\n",
       "      <td>-26.8410</td>\n",
       "      <td>-65.1050</td>\n",
       "      <td>9.037911</td>\n",
       "      <td>0.110645</td>\n",
       "    </tr>\n",
       "    <tr>\n",
       "      <td>264</td>\n",
       "      <td>AR000087129</td>\n",
       "      <td>-27.7670</td>\n",
       "      <td>-64.3000</td>\n",
       "      <td>122.300301</td>\n",
       "      <td>0.008177</td>\n",
       "    </tr>\n",
       "    <tr>\n",
       "      <td>294</td>\n",
       "      <td>ARM00087222</td>\n",
       "      <td>-28.5960</td>\n",
       "      <td>-65.7520</td>\n",
       "      <td>204.430796</td>\n",
       "      <td>0.004892</td>\n",
       "    </tr>\n",
       "    <tr>\n",
       "      <td>280</td>\n",
       "      <td>AR000870470</td>\n",
       "      <td>-24.8500</td>\n",
       "      <td>-65.4830</td>\n",
       "      <td>228.548280</td>\n",
       "      <td>0.004375</td>\n",
       "    </tr>\n",
       "    <tr>\n",
       "      <td>287</td>\n",
       "      <td>ARM00087046</td>\n",
       "      <td>-24.3930</td>\n",
       "      <td>-65.0980</td>\n",
       "      <td>274.519972</td>\n",
       "      <td>0.003643</td>\n",
       "    </tr>\n",
       "    <tr>\n",
       "      <td>266</td>\n",
       "      <td>AR000087217</td>\n",
       "      <td>-29.3830</td>\n",
       "      <td>-66.8170</td>\n",
       "      <td>329.725849</td>\n",
       "      <td>0.003033</td>\n",
       "    </tr>\n",
       "    <tr>\n",
       "      <td>293</td>\n",
       "      <td>ARM00087213</td>\n",
       "      <td>-29.2330</td>\n",
       "      <td>-67.4330</td>\n",
       "      <td>353.325080</td>\n",
       "      <td>0.002830</td>\n",
       "    </tr>\n",
       "    <tr>\n",
       "      <td>295</td>\n",
       "      <td>ARM00087244</td>\n",
       "      <td>-29.9000</td>\n",
       "      <td>-63.6830</td>\n",
       "      <td>360.453629</td>\n",
       "      <td>0.002774</td>\n",
       "    </tr>\n",
       "    <tr>\n",
       "      <td>262</td>\n",
       "      <td>AR000087065</td>\n",
       "      <td>-24.1670</td>\n",
       "      <td>-62.9000</td>\n",
       "      <td>367.510826</td>\n",
       "      <td>0.002721</td>\n",
       "    </tr>\n",
       "    <tr>\n",
       "      <td>298</td>\n",
       "      <td>ARM00087320</td>\n",
       "      <td>-30.3670</td>\n",
       "      <td>-66.2830</td>\n",
       "      <td>406.765686</td>\n",
       "      <td>0.002458</td>\n",
       "    </tr>\n",
       "  </tbody>\n",
       "</table>\n",
       "</div>"
      ],
      "text/plain": [
       "            code       lat       lon  dist_to_slt  inv_dist_to_slt\n",
       "288  ARM00087121  -26.8410  -65.1050     9.037911         0.110645\n",
       "264  AR000087129  -27.7670  -64.3000   122.300301         0.008177\n",
       "294  ARM00087222  -28.5960  -65.7520   204.430796         0.004892\n",
       "280  AR000870470  -24.8500  -65.4830   228.548280         0.004375\n",
       "287  ARM00087046  -24.3930  -65.0980   274.519972         0.003643\n",
       "266  AR000087217  -29.3830  -66.8170   329.725849         0.003033\n",
       "293  ARM00087213  -29.2330  -67.4330   353.325080         0.002830\n",
       "295  ARM00087244  -29.9000  -63.6830   360.453629         0.002774\n",
       "262  AR000087065  -24.1670  -62.9000   367.510826         0.002721\n",
       "298  ARM00087320  -30.3670  -66.2830   406.765686         0.002458"
      ]
     },
     "execution_count": 651,
     "metadata": {},
     "output_type": "execute_result"
    }
   ],
   "source": [
    "df_est_noaa_desc = df_est_noaa_desc.sort_values(by=['dist_to_slt'])\n",
    "df_est_noaa_desc.head(10)"
   ]
  },
  {
   "cell_type": "code",
   "execution_count": 652,
   "metadata": {},
   "outputs": [],
   "source": [
    "df_est_noaa_desc = df_est_noaa_desc[df_est_noaa_desc.dist_to_slt <= 300.0]"
   ]
  },
  {
   "cell_type": "code",
   "execution_count": 654,
   "metadata": {},
   "outputs": [],
   "source": [
    "df_est_noaa_desc['inv_dist_to_slt'] = 1. / df_est_noaa_desc.dist_to_slt"
   ]
  },
  {
   "cell_type": "markdown",
   "metadata": {},
   "source": [
    "## read data from stations closer than 300km"
   ]
  },
  {
   "cell_type": "code",
   "execution_count": 655,
   "metadata": {},
   "outputs": [],
   "source": [
    "station_codes = set(df_est_noaa_desc.code.values)"
   ]
  },
  {
   "cell_type": "code",
   "execution_count": 656,
   "metadata": {},
   "outputs": [
    {
     "data": {
      "text/plain": [
       "{'AR000087129', 'AR000870470', 'ARM00087046', 'ARM00087121', 'ARM00087222'}"
      ]
     },
     "execution_count": 656,
     "metadata": {},
     "output_type": "execute_result"
    }
   ],
   "source": [
    "station_codes"
   ]
  },
  {
   "cell_type": "code",
   "execution_count": 95,
   "metadata": {},
   "outputs": [],
   "source": [
    "iter_csv = pd.read_csv(\n",
    "    os.path.join(DATA_FOLDER, NOAA_DATA_FOLDER),\n",
    "    skiprows=1, \n",
    "    names=[\"STATION\",\"DATE\",\"LATITUDE\",\"LONGITUDE\",\n",
    "            \"ELEVATION\",\"NAME\",\"PRCP\",\"PRCP_ATTRIBUTES\",\n",
    "            \"SNOW\",\"SNOW_ATTRIBUTES\",\"SNWD\",\"SNWD_ATTRIBUTES\",\n",
    "            \"TMAX\",\"TMAX_ATTRIBUTES\",\"TMIN\",\"TMIN_ATTRIBUTES\",\n",
    "            \"TOBS\",\"TOBS_ATTRIBUTES\"],\n",
    "    iterator=True,\n",
    "    chunksize=10000\n",
    ")"
   ]
  },
  {
   "cell_type": "code",
   "execution_count": 99,
   "metadata": {},
   "outputs": [],
   "source": [
    "from tqdm import tqdm_notebook\n",
    "import tqdm"
   ]
  },
  {
   "cell_type": "code",
   "execution_count": 100,
   "metadata": {},
   "outputs": [
    {
     "name": "stderr",
     "output_type": "stream",
     "text": [
      "/home/nox/repos/venv/lib/python3.7/site-packages/ipykernel_launcher.py:1: TqdmDeprecationWarning: This function will be removed in tqdm==5.0.0\n",
      "Please use `tqdm.notebook.tqdm` instead of `tqdm.tqdm_notebook`\n",
      "  \"\"\"Entry point for launching an IPython kernel.\n"
     ]
    },
    {
     "data": {
      "application/vnd.jupyter.widget-view+json": {
       "model_id": "9e028b80b755415dac0cd2a41fd5c900",
       "version_major": 2,
       "version_minor": 0
      },
      "text/plain": [
       "HBox(children=(FloatProgress(value=1.0, bar_style='info', max=1.0), HTML(value='')))"
      ]
     },
     "metadata": {},
     "output_type": "display_data"
    },
    {
     "name": "stdout",
     "output_type": "stream",
     "text": [
      "\n"
     ]
    }
   ],
   "source": [
    "df = pd.concat([chunk[chunk.iloc[:,0].isin(station_codes)] for chunk in tqdm_notebook(iter_csv)])"
   ]
  },
  {
   "cell_type": "code",
   "execution_count": 286,
   "metadata": {},
   "outputs": [],
   "source": [
    "df.to_pickle(os.path.join(DATA_FOLDER, 'filtered_daily_summaries.pkl'))\n",
    "df.PRCP = df.PRCP.astype(float)"
   ]
  },
  {
   "cell_type": "markdown",
   "metadata": {},
   "source": [
    "# Closest station as proxy"
   ]
  },
  {
   "cell_type": "code",
   "execution_count": 674,
   "metadata": {},
   "outputs": [
    {
     "data": {
      "text/html": [
       "<div>\n",
       "<style scoped>\n",
       "    .dataframe tbody tr th:only-of-type {\n",
       "        vertical-align: middle;\n",
       "    }\n",
       "\n",
       "    .dataframe tbody tr th {\n",
       "        vertical-align: top;\n",
       "    }\n",
       "\n",
       "    .dataframe thead th {\n",
       "        text-align: right;\n",
       "    }\n",
       "</style>\n",
       "<table border=\"1\" class=\"dataframe\">\n",
       "  <thead>\n",
       "    <tr style=\"text-align: right;\">\n",
       "      <th></th>\n",
       "      <th>Año hid</th>\n",
       "      <th>San Luis Tucuman</th>\n",
       "      <th>PRCP</th>\n",
       "      <th>ratio</th>\n",
       "    </tr>\n",
       "  </thead>\n",
       "  <tbody>\n",
       "    <tr>\n",
       "      <td>1</td>\n",
       "      <td>1982</td>\n",
       "      <td>62.0</td>\n",
       "      <td>161.0</td>\n",
       "      <td>2.596774</td>\n",
       "    </tr>\n",
       "    <tr>\n",
       "      <td>2</td>\n",
       "      <td>1983</td>\n",
       "      <td>122.0</td>\n",
       "      <td>120.9</td>\n",
       "      <td>0.990984</td>\n",
       "    </tr>\n",
       "    <tr>\n",
       "      <td>3</td>\n",
       "      <td>1984</td>\n",
       "      <td>96.0</td>\n",
       "      <td>56.9</td>\n",
       "      <td>0.592708</td>\n",
       "    </tr>\n",
       "    <tr>\n",
       "      <td>4</td>\n",
       "      <td>1985</td>\n",
       "      <td>94.0</td>\n",
       "      <td>0.0</td>\n",
       "      <td>0.000000</td>\n",
       "    </tr>\n",
       "    <tr>\n",
       "      <td>5</td>\n",
       "      <td>1986</td>\n",
       "      <td>50.0</td>\n",
       "      <td>16.0</td>\n",
       "      <td>0.320000</td>\n",
       "    </tr>\n",
       "    <tr>\n",
       "      <td>6</td>\n",
       "      <td>1987</td>\n",
       "      <td>51.0</td>\n",
       "      <td>150.1</td>\n",
       "      <td>2.943137</td>\n",
       "    </tr>\n",
       "    <tr>\n",
       "      <td>7</td>\n",
       "      <td>1988</td>\n",
       "      <td>90.0</td>\n",
       "      <td>101.1</td>\n",
       "      <td>1.123333</td>\n",
       "    </tr>\n",
       "    <tr>\n",
       "      <td>8</td>\n",
       "      <td>1989</td>\n",
       "      <td>179.0</td>\n",
       "      <td>64.0</td>\n",
       "      <td>0.357542</td>\n",
       "    </tr>\n",
       "    <tr>\n",
       "      <td>9</td>\n",
       "      <td>1990</td>\n",
       "      <td>45.0</td>\n",
       "      <td>104.9</td>\n",
       "      <td>2.331111</td>\n",
       "    </tr>\n",
       "    <tr>\n",
       "      <td>10</td>\n",
       "      <td>1991</td>\n",
       "      <td>67.0</td>\n",
       "      <td>181.1</td>\n",
       "      <td>2.702985</td>\n",
       "    </tr>\n",
       "    <tr>\n",
       "      <td>11</td>\n",
       "      <td>1992</td>\n",
       "      <td>67.0</td>\n",
       "      <td>125.0</td>\n",
       "      <td>1.865672</td>\n",
       "    </tr>\n",
       "    <tr>\n",
       "      <td>12</td>\n",
       "      <td>1993</td>\n",
       "      <td>88.0</td>\n",
       "      <td>110.0</td>\n",
       "      <td>1.250000</td>\n",
       "    </tr>\n",
       "    <tr>\n",
       "      <td>13</td>\n",
       "      <td>1994</td>\n",
       "      <td>71.0</td>\n",
       "      <td>283.0</td>\n",
       "      <td>3.985915</td>\n",
       "    </tr>\n",
       "    <tr>\n",
       "      <td>14</td>\n",
       "      <td>1995</td>\n",
       "      <td>63.0</td>\n",
       "      <td>62.0</td>\n",
       "      <td>0.984127</td>\n",
       "    </tr>\n",
       "    <tr>\n",
       "      <td>15</td>\n",
       "      <td>1996</td>\n",
       "      <td>122.0</td>\n",
       "      <td>141.0</td>\n",
       "      <td>1.155738</td>\n",
       "    </tr>\n",
       "    <tr>\n",
       "      <td>16</td>\n",
       "      <td>1997</td>\n",
       "      <td>67.0</td>\n",
       "      <td>237.0</td>\n",
       "      <td>3.537313</td>\n",
       "    </tr>\n",
       "    <tr>\n",
       "      <td>17</td>\n",
       "      <td>1998</td>\n",
       "      <td>65.0</td>\n",
       "      <td>363.0</td>\n",
       "      <td>5.584615</td>\n",
       "    </tr>\n",
       "    <tr>\n",
       "      <td>18</td>\n",
       "      <td>1999</td>\n",
       "      <td>73.0</td>\n",
       "      <td>103.9</td>\n",
       "      <td>1.423288</td>\n",
       "    </tr>\n",
       "    <tr>\n",
       "      <td>19</td>\n",
       "      <td>2000</td>\n",
       "      <td>102.0</td>\n",
       "      <td>80.0</td>\n",
       "      <td>0.784314</td>\n",
       "    </tr>\n",
       "    <tr>\n",
       "      <td>20</td>\n",
       "      <td>2001</td>\n",
       "      <td>91.0</td>\n",
       "      <td>62.0</td>\n",
       "      <td>0.681319</td>\n",
       "    </tr>\n",
       "    <tr>\n",
       "      <td>21</td>\n",
       "      <td>2002</td>\n",
       "      <td>150.0</td>\n",
       "      <td>55.9</td>\n",
       "      <td>0.372667</td>\n",
       "    </tr>\n",
       "    <tr>\n",
       "      <td>22</td>\n",
       "      <td>2003</td>\n",
       "      <td>75.0</td>\n",
       "      <td>459.0</td>\n",
       "      <td>6.120000</td>\n",
       "    </tr>\n",
       "    <tr>\n",
       "      <td>23</td>\n",
       "      <td>2004</td>\n",
       "      <td>96.0</td>\n",
       "      <td>62.0</td>\n",
       "      <td>0.645833</td>\n",
       "    </tr>\n",
       "    <tr>\n",
       "      <td>24</td>\n",
       "      <td>2005</td>\n",
       "      <td>73.0</td>\n",
       "      <td>63.0</td>\n",
       "      <td>0.863014</td>\n",
       "    </tr>\n",
       "  </tbody>\n",
       "</table>\n",
       "</div>"
      ],
      "text/plain": [
       "    Año hid  San Luis Tucuman   PRCP     ratio\n",
       "1      1982              62.0  161.0  2.596774\n",
       "2      1983             122.0  120.9  0.990984\n",
       "3      1984              96.0   56.9  0.592708\n",
       "4      1985              94.0    0.0  0.000000\n",
       "5      1986              50.0   16.0  0.320000\n",
       "6      1987              51.0  150.1  2.943137\n",
       "7      1988              90.0  101.1  1.123333\n",
       "8      1989             179.0   64.0  0.357542\n",
       "9      1990              45.0  104.9  2.331111\n",
       "10     1991              67.0  181.1  2.702985\n",
       "11     1992              67.0  125.0  1.865672\n",
       "12     1993              88.0  110.0  1.250000\n",
       "13     1994              71.0  283.0  3.985915\n",
       "14     1995              63.0   62.0  0.984127\n",
       "15     1996             122.0  141.0  1.155738\n",
       "16     1997              67.0  237.0  3.537313\n",
       "17     1998              65.0  363.0  5.584615\n",
       "18     1999              73.0  103.9  1.423288\n",
       "19     2000             102.0   80.0  0.784314\n",
       "20     2001              91.0   62.0  0.681319\n",
       "21     2002             150.0   55.9  0.372667\n",
       "22     2003              75.0  459.0  6.120000\n",
       "23     2004              96.0   62.0  0.645833\n",
       "24     2005              73.0   63.0  0.863014"
      ]
     },
     "execution_count": 674,
     "metadata": {},
     "output_type": "execute_result"
    }
   ],
   "source": [
    "closest = df[(df.STATION == \"ARM00087121\")&(~df.PRCP.isnull())][['STATION', 'DATE', 'PRCP']]\n",
    "closest['year'] = closest.DATE.str.split('-').apply(lambda x: int(x[0]))\n",
    "closest = closest.groupby(['year'])[['PRCP']].max() / 10.\n",
    "df_maximos = pd.read_excel(ESTACIONES_XLSX, sheet_name=1, header=1)[['Año hid', 'San Luis Tucuman']]\n",
    "df_cmp = pd.merge(df_maximos, closest, how='inner', left_on='Año hid', right_on='year')\n",
    "df_cmp['ratio'] = df_cmp['PRCP'] / df_cmp['San Luis Tucuman']\n",
    "df_cmp[df_cmp['Año hid'] > 1981]"
   ]
  },
  {
   "cell_type": "code",
   "execution_count": 675,
   "metadata": {},
   "outputs": [
    {
     "data": {
      "text/plain": [
       "109.1"
      ]
     },
     "execution_count": 675,
     "metadata": {},
     "output_type": "execute_result"
    }
   ],
   "source": [
    "mean_absolute_error(df_cmp[-10:]['San Luis Tucuman'], df_cmp[-10:].PRCP)"
   ]
  },
  {
   "cell_type": "markdown",
   "metadata": {},
   "source": [
    "# [Collection of Historical Weather Data: Issues with Missing Values](https://arxiv.org/abs/1910.08626)"
   ]
  },
  {
   "cell_type": "markdown",
   "metadata": {},
   "source": [
    "## Normal ratio with geographical coordinates method \n",
    "\n",
    "$$Y_s = \\sum_{i=1}^{N}\\frac{ \\frac{1}{x_i^2+y_i^2} \\frac{M_s}{M_i} }{\\sum_{i=1}^{N} \\frac{1}{x_i^2+y_i^2} \\frac{M_s}{M_i} }Y_i$$"
   ]
  },
  {
   "cell_type": "code",
   "execution_count": 615,
   "metadata": {},
   "outputs": [
    {
     "data": {
      "text/html": [
       "<div>\n",
       "<style scoped>\n",
       "    .dataframe tbody tr th:only-of-type {\n",
       "        vertical-align: middle;\n",
       "    }\n",
       "\n",
       "    .dataframe tbody tr th {\n",
       "        vertical-align: top;\n",
       "    }\n",
       "\n",
       "    .dataframe thead th {\n",
       "        text-align: right;\n",
       "    }\n",
       "</style>\n",
       "<table border=\"1\" class=\"dataframe\">\n",
       "  <thead>\n",
       "    <tr style=\"text-align: right;\">\n",
       "      <th>STATION</th>\n",
       "      <th>AR000087129</th>\n",
       "      <th>AR000870470</th>\n",
       "      <th>ARM00087046</th>\n",
       "      <th>ARM00087121</th>\n",
       "      <th>ARM00087222</th>\n",
       "    </tr>\n",
       "    <tr>\n",
       "      <th>DATE</th>\n",
       "      <th></th>\n",
       "      <th></th>\n",
       "      <th></th>\n",
       "      <th></th>\n",
       "      <th></th>\n",
       "    </tr>\n",
       "  </thead>\n",
       "  <tbody>\n",
       "    <tr>\n",
       "      <td>1956-02-01</td>\n",
       "      <td>0.0</td>\n",
       "      <td>0.0</td>\n",
       "      <td>0.0</td>\n",
       "      <td>0.0</td>\n",
       "      <td>0.0</td>\n",
       "    </tr>\n",
       "    <tr>\n",
       "      <td>1956-02-02</td>\n",
       "      <td>0.0</td>\n",
       "      <td>0.0</td>\n",
       "      <td>0.0</td>\n",
       "      <td>0.0</td>\n",
       "      <td>0.0</td>\n",
       "    </tr>\n",
       "    <tr>\n",
       "      <td>1956-02-03</td>\n",
       "      <td>0.0</td>\n",
       "      <td>0.0</td>\n",
       "      <td>0.0</td>\n",
       "      <td>0.0</td>\n",
       "      <td>0.0</td>\n",
       "    </tr>\n",
       "    <tr>\n",
       "      <td>1956-02-04</td>\n",
       "      <td>0.0</td>\n",
       "      <td>0.0</td>\n",
       "      <td>0.0</td>\n",
       "      <td>0.0</td>\n",
       "      <td>0.0</td>\n",
       "    </tr>\n",
       "    <tr>\n",
       "      <td>1956-02-05</td>\n",
       "      <td>0.0</td>\n",
       "      <td>0.0</td>\n",
       "      <td>0.0</td>\n",
       "      <td>0.0</td>\n",
       "      <td>0.0</td>\n",
       "    </tr>\n",
       "  </tbody>\n",
       "</table>\n",
       "</div>"
      ],
      "text/plain": [
       "STATION     AR000087129  AR000870470  ARM00087046  ARM00087121  ARM00087222\n",
       "DATE                                                                       \n",
       "1956-02-01          0.0          0.0          0.0          0.0          0.0\n",
       "1956-02-02          0.0          0.0          0.0          0.0          0.0\n",
       "1956-02-03          0.0          0.0          0.0          0.0          0.0\n",
       "1956-02-04          0.0          0.0          0.0          0.0          0.0\n",
       "1956-02-05          0.0          0.0          0.0          0.0          0.0"
      ]
     },
     "execution_count": 615,
     "metadata": {},
     "output_type": "execute_result"
    }
   ],
   "source": [
    "df_daily_data = df.pivot_table(values='PRCP', columns='STATION', index='DATE', aggfunc='sum')\n",
    "df_daily_data = df_daily_data[df_est_desc.code]\n",
    "df_daily_data = df_daily_data.fillna(0.0)\n",
    "df_daily_data.head()"
   ]
  },
  {
   "cell_type": "markdown",
   "metadata": {},
   "source": [
    "### $M_s$"
   ]
  },
  {
   "cell_type": "code",
   "execution_count": 616,
   "metadata": {},
   "outputs": [],
   "source": [
    "df_anuales = pd.read_excel(ESTACIONES_XLSX, sheet_name=1, header=1)\n",
    "df_anuales = df_anuales[df_anuales['Año hid'] >= 1973][['Año hid', 'San Luis Tucuman']].reset_index(drop=True)\n",
    "df_anuales['daily_avg'] = df_anuales['San Luis Tucuman'].cumsum() / ((1 + df_anuales['San Luis Tucuman'].index) * 365)\n",
    "M_s = df_anuales['San Luis Tucuman'].mean() / 365"
   ]
  },
  {
   "cell_type": "markdown",
   "metadata": {},
   "source": [
    "### El resto"
   ]
  },
  {
   "cell_type": "code",
   "execution_count": 617,
   "metadata": {},
   "outputs": [],
   "source": [
    "Y_cols = [f\"{col}_Y\" for col in df_daily_data.columns]\n",
    "M_cols = [f\"{col}_M\" for col in df_daily_data.columns]\n",
    "df_daily_data.rename(inplace=True, columns=lambda x: f\"{x}_Y\")\n",
    "df_daily_data[M_cols] = df_daily_data[Y_cols]"
   ]
  },
  {
   "cell_type": "code",
   "execution_count": 618,
   "metadata": {},
   "outputs": [],
   "source": [
    "# M_i calculation\n",
    "df_daily_data[M_cols] = df_daily_data[M_cols].cumsum(axis=0).divide(np.arange(1, len(df_daily_data)+1), axis=0)"
   ]
  },
  {
   "cell_type": "code",
   "execution_count": 619,
   "metadata": {},
   "outputs": [],
   "source": [
    "# M_s / M_i coefficient\n",
    "df_daily_data[M_cols] = M_s / df_daily_data[M_cols]"
   ]
  },
  {
   "cell_type": "code",
   "execution_count": 620,
   "metadata": {},
   "outputs": [],
   "source": [
    "# (M_s / M_i) * inverse distance\n",
    "df_daily_data[M_cols] = df_daily_data[M_cols].multiply(df_est_desc.dist_to_slt.values, axis='columns')"
   ]
  },
  {
   "cell_type": "code",
   "execution_count": 621,
   "metadata": {},
   "outputs": [],
   "source": [
    "# sum M values\n",
    "df_daily_data['sum_Mi'] = df_daily_data[M_cols].sum(axis=1)"
   ]
  },
  {
   "cell_type": "code",
   "execution_count": 622,
   "metadata": {},
   "outputs": [],
   "source": [
    "# filter relevant dates\n",
    "df_daily_data = df_daily_data[(df_daily_data[Y_cols].fillna(0.) != 0.).cumsum(axis=0).all(axis=1)]"
   ]
  },
  {
   "cell_type": "code",
   "execution_count": 623,
   "metadata": {},
   "outputs": [],
   "source": [
    "# normalize M_i values\n",
    "df_daily_data[M_cols] = df_daily_data[M_cols].divide(df_daily_data.sum_Mi, axis=0)"
   ]
  },
  {
   "cell_type": "code",
   "execution_count": 624,
   "metadata": {},
   "outputs": [],
   "source": [
    "df_daily_data['NRGC'] = (df_daily_data[Y_cols].values * df_daily_data[M_cols].values).sum(axis=1)"
   ]
  },
  {
   "cell_type": "code",
   "execution_count": 625,
   "metadata": {},
   "outputs": [],
   "source": [
    "df_daily_data['year'] = df_daily_data.index.str.split('-').map(lambda x: x[0])"
   ]
  },
  {
   "cell_type": "code",
   "execution_count": 626,
   "metadata": {},
   "outputs": [],
   "source": [
    "predictions = df_daily_data.groupby('year')[['NRGC']].max() / 10.\n",
    "predictions.index = predictions.index.astype(int)"
   ]
  },
  {
   "cell_type": "code",
   "execution_count": 627,
   "metadata": {},
   "outputs": [],
   "source": [
    "df_maximos = pd.read_excel(ESTACIONES_XLSX, sheet_name=1, header=1)[['Año hid', 'San Luis Tucuman']]"
   ]
  },
  {
   "cell_type": "code",
   "execution_count": 628,
   "metadata": {},
   "outputs": [
    {
     "data": {
      "text/html": [
       "<div>\n",
       "<style scoped>\n",
       "    .dataframe tbody tr th:only-of-type {\n",
       "        vertical-align: middle;\n",
       "    }\n",
       "\n",
       "    .dataframe tbody tr th {\n",
       "        vertical-align: top;\n",
       "    }\n",
       "\n",
       "    .dataframe thead th {\n",
       "        text-align: right;\n",
       "    }\n",
       "</style>\n",
       "<table border=\"1\" class=\"dataframe\">\n",
       "  <thead>\n",
       "    <tr style=\"text-align: right;\">\n",
       "      <th></th>\n",
       "      <th>Año hid</th>\n",
       "      <th>San Luis Tucuman</th>\n",
       "      <th>NRGC</th>\n",
       "      <th>ratio</th>\n",
       "    </tr>\n",
       "  </thead>\n",
       "  <tbody>\n",
       "    <tr>\n",
       "      <td>36</td>\n",
       "      <td>1982.0</td>\n",
       "      <td>62.0</td>\n",
       "      <td>159.939186</td>\n",
       "      <td>2.579664</td>\n",
       "    </tr>\n",
       "    <tr>\n",
       "      <td>37</td>\n",
       "      <td>1983.0</td>\n",
       "      <td>122.0</td>\n",
       "      <td>116.366490</td>\n",
       "      <td>0.953824</td>\n",
       "    </tr>\n",
       "    <tr>\n",
       "      <td>38</td>\n",
       "      <td>1984.0</td>\n",
       "      <td>96.0</td>\n",
       "      <td>54.797566</td>\n",
       "      <td>0.570808</td>\n",
       "    </tr>\n",
       "    <tr>\n",
       "      <td>39</td>\n",
       "      <td>1985.0</td>\n",
       "      <td>94.0</td>\n",
       "      <td>2.355075</td>\n",
       "      <td>0.025054</td>\n",
       "    </tr>\n",
       "    <tr>\n",
       "      <td>40</td>\n",
       "      <td>1986.0</td>\n",
       "      <td>50.0</td>\n",
       "      <td>15.675750</td>\n",
       "      <td>0.313515</td>\n",
       "    </tr>\n",
       "    <tr>\n",
       "      <td>41</td>\n",
       "      <td>1987.0</td>\n",
       "      <td>51.0</td>\n",
       "      <td>142.859045</td>\n",
       "      <td>2.801158</td>\n",
       "    </tr>\n",
       "    <tr>\n",
       "      <td>42</td>\n",
       "      <td>1988.0</td>\n",
       "      <td>90.0</td>\n",
       "      <td>94.846235</td>\n",
       "      <td>1.053847</td>\n",
       "    </tr>\n",
       "    <tr>\n",
       "      <td>43</td>\n",
       "      <td>1989.0</td>\n",
       "      <td>179.0</td>\n",
       "      <td>59.541163</td>\n",
       "      <td>0.332632</td>\n",
       "    </tr>\n",
       "    <tr>\n",
       "      <td>44</td>\n",
       "      <td>1990.0</td>\n",
       "      <td>45.0</td>\n",
       "      <td>98.916374</td>\n",
       "      <td>2.198142</td>\n",
       "    </tr>\n",
       "    <tr>\n",
       "      <td>45</td>\n",
       "      <td>1991.0</td>\n",
       "      <td>67.0</td>\n",
       "      <td>164.688295</td>\n",
       "      <td>2.458034</td>\n",
       "    </tr>\n",
       "    <tr>\n",
       "      <td>46</td>\n",
       "      <td>1992.0</td>\n",
       "      <td>67.0</td>\n",
       "      <td>113.055857</td>\n",
       "      <td>1.687401</td>\n",
       "    </tr>\n",
       "    <tr>\n",
       "      <td>47</td>\n",
       "      <td>1993.0</td>\n",
       "      <td>88.0</td>\n",
       "      <td>102.522336</td>\n",
       "      <td>1.165027</td>\n",
       "    </tr>\n",
       "    <tr>\n",
       "      <td>48</td>\n",
       "      <td>1994.0</td>\n",
       "      <td>71.0</td>\n",
       "      <td>249.902932</td>\n",
       "      <td>3.519760</td>\n",
       "    </tr>\n",
       "    <tr>\n",
       "      <td>49</td>\n",
       "      <td>1995.0</td>\n",
       "      <td>63.0</td>\n",
       "      <td>54.667969</td>\n",
       "      <td>0.867746</td>\n",
       "    </tr>\n",
       "    <tr>\n",
       "      <td>50</td>\n",
       "      <td>1996.0</td>\n",
       "      <td>122.0</td>\n",
       "      <td>122.915055</td>\n",
       "      <td>1.007500</td>\n",
       "    </tr>\n",
       "    <tr>\n",
       "      <td>51</td>\n",
       "      <td>1997.0</td>\n",
       "      <td>67.0</td>\n",
       "      <td>207.175626</td>\n",
       "      <td>3.092174</td>\n",
       "    </tr>\n",
       "    <tr>\n",
       "      <td>52</td>\n",
       "      <td>1998.0</td>\n",
       "      <td>65.0</td>\n",
       "      <td>314.762656</td>\n",
       "      <td>4.842502</td>\n",
       "    </tr>\n",
       "    <tr>\n",
       "      <td>53</td>\n",
       "      <td>1999.0</td>\n",
       "      <td>73.0</td>\n",
       "      <td>89.876091</td>\n",
       "      <td>1.231179</td>\n",
       "    </tr>\n",
       "    <tr>\n",
       "      <td>54</td>\n",
       "      <td>2000.0</td>\n",
       "      <td>102.0</td>\n",
       "      <td>76.116604</td>\n",
       "      <td>0.746241</td>\n",
       "    </tr>\n",
       "    <tr>\n",
       "      <td>55</td>\n",
       "      <td>2001.0</td>\n",
       "      <td>91.0</td>\n",
       "      <td>54.205582</td>\n",
       "      <td>0.595666</td>\n",
       "    </tr>\n",
       "    <tr>\n",
       "      <td>56</td>\n",
       "      <td>2002.0</td>\n",
       "      <td>150.0</td>\n",
       "      <td>54.748224</td>\n",
       "      <td>0.364988</td>\n",
       "    </tr>\n",
       "    <tr>\n",
       "      <td>57</td>\n",
       "      <td>2003.0</td>\n",
       "      <td>75.0</td>\n",
       "      <td>393.478337</td>\n",
       "      <td>5.246378</td>\n",
       "    </tr>\n",
       "    <tr>\n",
       "      <td>58</td>\n",
       "      <td>2004.0</td>\n",
       "      <td>96.0</td>\n",
       "      <td>53.627706</td>\n",
       "      <td>0.558622</td>\n",
       "    </tr>\n",
       "    <tr>\n",
       "      <td>59</td>\n",
       "      <td>2005.0</td>\n",
       "      <td>73.0</td>\n",
       "      <td>53.480664</td>\n",
       "      <td>0.732612</td>\n",
       "    </tr>\n",
       "  </tbody>\n",
       "</table>\n",
       "</div>"
      ],
      "text/plain": [
       "    Año hid  San Luis Tucuman        NRGC     ratio\n",
       "36   1982.0              62.0  159.939186  2.579664\n",
       "37   1983.0             122.0  116.366490  0.953824\n",
       "38   1984.0              96.0   54.797566  0.570808\n",
       "39   1985.0              94.0    2.355075  0.025054\n",
       "40   1986.0              50.0   15.675750  0.313515\n",
       "41   1987.0              51.0  142.859045  2.801158\n",
       "42   1988.0              90.0   94.846235  1.053847\n",
       "43   1989.0             179.0   59.541163  0.332632\n",
       "44   1990.0              45.0   98.916374  2.198142\n",
       "45   1991.0              67.0  164.688295  2.458034\n",
       "46   1992.0              67.0  113.055857  1.687401\n",
       "47   1993.0              88.0  102.522336  1.165027\n",
       "48   1994.0              71.0  249.902932  3.519760\n",
       "49   1995.0              63.0   54.667969  0.867746\n",
       "50   1996.0             122.0  122.915055  1.007500\n",
       "51   1997.0              67.0  207.175626  3.092174\n",
       "52   1998.0              65.0  314.762656  4.842502\n",
       "53   1999.0              73.0   89.876091  1.231179\n",
       "54   2000.0             102.0   76.116604  0.746241\n",
       "55   2001.0              91.0   54.205582  0.595666\n",
       "56   2002.0             150.0   54.748224  0.364988\n",
       "57   2003.0              75.0  393.478337  5.246378\n",
       "58   2004.0              96.0   53.627706  0.558622\n",
       "59   2005.0              73.0   53.480664  0.732612"
      ]
     },
     "execution_count": 628,
     "metadata": {},
     "output_type": "execute_result"
    }
   ],
   "source": [
    "df_cmp = pd.merge(df_maximos, predictions, how='outer', left_on='Año hid', right_on='year')\n",
    "df_cmp['ratio'] = df_cmp['NRGC'] / df_cmp['San Luis Tucuman']\n",
    "df_cmp[df_cmp['Año hid'] > 1981]"
   ]
  },
  {
   "cell_type": "code",
   "execution_count": 634,
   "metadata": {},
   "outputs": [],
   "source": [
    "predictions[(predictions.index >= 2006)\n",
    "            &(predictions.index <= 2015)\n",
    "].reset_index(\n",
    "    drop=True\n",
    ").to_csv(\n",
    "    os.path.join(PREDICTIONS_FOLDER, 'NOAA.csv'),\n",
    "    header=False\n",
    ")"
   ]
  }
 ],
 "metadata": {
  "kernelspec": {
   "display_name": "Python 3",
   "language": "python",
   "name": "python3"
  },
  "language_info": {
   "codemirror_mode": {
    "name": "ipython",
    "version": 3
   },
   "file_extension": ".py",
   "mimetype": "text/x-python",
   "name": "python",
   "nbconvert_exporter": "python",
   "pygments_lexer": "ipython3",
   "version": "3.7.4"
  }
 },
 "nbformat": 4,
 "nbformat_minor": 4
}
