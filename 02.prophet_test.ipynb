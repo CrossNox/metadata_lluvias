{
 "cells": [
  {
   "cell_type": "code",
   "execution_count": 1,
   "metadata": {},
   "outputs": [],
   "source": [
    "from fbprophet import Prophet\n",
    "from fbprophet.diagnostics import cross_validation, performance_metrics\n",
    "from fbprophet.plot import plot_cross_validation_metric\n",
    "\n",
    "from sklearn.metrics import mean_absolute_error\n",
    "import numpy as np\n"
   ]
  },
  {
   "cell_type": "code",
   "execution_count": 2,
   "metadata": {},
   "outputs": [
    {
     "name": "stderr",
     "output_type": "stream",
     "text": [
      "2020-03-05 21:07:50,994 - youconfigme.youconfigme - INFO - searching for config on /home/nox/repos/metadata_lluvias/settings.ini\n"
     ]
    }
   ],
   "source": [
    "import os\n",
    "import pandas as pd\n",
    "from utils import (\n",
    "    ESTACIONES_XLSX,\n",
    "    NCEP_NCAR_XLSX,\n",
    "    NDEFM_XLSX,\n",
    "    PREDICTIONS_FOLDER\n",
    ")"
   ]
  },
  {
   "cell_type": "code",
   "execution_count": 3,
   "metadata": {},
   "outputs": [
    {
     "data": {
      "text/html": [
       "<div>\n",
       "<style scoped>\n",
       "    .dataframe tbody tr th:only-of-type {\n",
       "        vertical-align: middle;\n",
       "    }\n",
       "\n",
       "    .dataframe tbody tr th {\n",
       "        vertical-align: top;\n",
       "    }\n",
       "\n",
       "    .dataframe thead th {\n",
       "        text-align: right;\n",
       "    }\n",
       "</style>\n",
       "<table border=\"1\" class=\"dataframe\">\n",
       "  <thead>\n",
       "    <tr style=\"text-align: right;\">\n",
       "      <th></th>\n",
       "      <th>Año hid</th>\n",
       "      <th>San Luis</th>\n",
       "      <th>Miraflores</th>\n",
       "      <th>Pozo Sarmiento</th>\n",
       "      <th>Pie de Medano</th>\n",
       "      <th>Valle Viejo</th>\n",
       "      <th>Caimancito</th>\n",
       "      <th>Casa de Piedra</th>\n",
       "      <th>Potrero del Clavillo</th>\n",
       "      <th>Piedra  Grande</th>\n",
       "      <th>Los Sosa</th>\n",
       "      <th>Padilla</th>\n",
       "      <th>La Maria</th>\n",
       "      <th>San Luis Tucuman</th>\n",
       "    </tr>\n",
       "  </thead>\n",
       "  <tbody>\n",
       "    <tr>\n",
       "      <td>0</td>\n",
       "      <td>1946-01-01</td>\n",
       "      <td>NaN</td>\n",
       "      <td>NaN</td>\n",
       "      <td>133.0</td>\n",
       "      <td>NaN</td>\n",
       "      <td>NaN</td>\n",
       "      <td>NaN</td>\n",
       "      <td>NaN</td>\n",
       "      <td>NaN</td>\n",
       "      <td>NaN</td>\n",
       "      <td>NaN</td>\n",
       "      <td>NaN</td>\n",
       "      <td>NaN</td>\n",
       "      <td>NaN</td>\n",
       "    </tr>\n",
       "    <tr>\n",
       "      <td>1</td>\n",
       "      <td>1947-01-01</td>\n",
       "      <td>NaN</td>\n",
       "      <td>NaN</td>\n",
       "      <td>84.0</td>\n",
       "      <td>NaN</td>\n",
       "      <td>NaN</td>\n",
       "      <td>NaN</td>\n",
       "      <td>NaN</td>\n",
       "      <td>NaN</td>\n",
       "      <td>NaN</td>\n",
       "      <td>NaN</td>\n",
       "      <td>NaN</td>\n",
       "      <td>NaN</td>\n",
       "      <td>NaN</td>\n",
       "    </tr>\n",
       "    <tr>\n",
       "      <td>2</td>\n",
       "      <td>1948-01-01</td>\n",
       "      <td>NaN</td>\n",
       "      <td>NaN</td>\n",
       "      <td>76.3</td>\n",
       "      <td>NaN</td>\n",
       "      <td>NaN</td>\n",
       "      <td>41.7</td>\n",
       "      <td>NaN</td>\n",
       "      <td>NaN</td>\n",
       "      <td>NaN</td>\n",
       "      <td>NaN</td>\n",
       "      <td>NaN</td>\n",
       "      <td>NaN</td>\n",
       "      <td>NaN</td>\n",
       "    </tr>\n",
       "    <tr>\n",
       "      <td>3</td>\n",
       "      <td>1949-01-01</td>\n",
       "      <td>NaN</td>\n",
       "      <td>NaN</td>\n",
       "      <td>64.4</td>\n",
       "      <td>NaN</td>\n",
       "      <td>NaN</td>\n",
       "      <td>64.0</td>\n",
       "      <td>NaN</td>\n",
       "      <td>NaN</td>\n",
       "      <td>NaN</td>\n",
       "      <td>NaN</td>\n",
       "      <td>NaN</td>\n",
       "      <td>NaN</td>\n",
       "      <td>NaN</td>\n",
       "    </tr>\n",
       "    <tr>\n",
       "      <td>4</td>\n",
       "      <td>1950-01-01</td>\n",
       "      <td>NaN</td>\n",
       "      <td>NaN</td>\n",
       "      <td>60.0</td>\n",
       "      <td>NaN</td>\n",
       "      <td>NaN</td>\n",
       "      <td>134.0</td>\n",
       "      <td>NaN</td>\n",
       "      <td>NaN</td>\n",
       "      <td>NaN</td>\n",
       "      <td>NaN</td>\n",
       "      <td>NaN</td>\n",
       "      <td>NaN</td>\n",
       "      <td>NaN</td>\n",
       "    </tr>\n",
       "  </tbody>\n",
       "</table>\n",
       "</div>"
      ],
      "text/plain": [
       "     Año hid  San Luis  Miraflores  Pozo Sarmiento  Pie de Medano  \\\n",
       "0 1946-01-01       NaN         NaN           133.0            NaN   \n",
       "1 1947-01-01       NaN         NaN            84.0            NaN   \n",
       "2 1948-01-01       NaN         NaN            76.3            NaN   \n",
       "3 1949-01-01       NaN         NaN            64.4            NaN   \n",
       "4 1950-01-01       NaN         NaN            60.0            NaN   \n",
       "\n",
       "   Valle Viejo  Caimancito  Casa de Piedra  Potrero del Clavillo  \\\n",
       "0          NaN         NaN             NaN                   NaN   \n",
       "1          NaN         NaN             NaN                   NaN   \n",
       "2          NaN        41.7             NaN                   NaN   \n",
       "3          NaN        64.0             NaN                   NaN   \n",
       "4          NaN       134.0             NaN                   NaN   \n",
       "\n",
       "   Piedra  Grande  Los Sosa  Padilla  La Maria  San Luis Tucuman  \n",
       "0             NaN       NaN      NaN       NaN               NaN  \n",
       "1             NaN       NaN      NaN       NaN               NaN  \n",
       "2             NaN       NaN      NaN       NaN               NaN  \n",
       "3             NaN       NaN      NaN       NaN               NaN  \n",
       "4             NaN       NaN      NaN       NaN               NaN  "
      ]
     },
     "execution_count": 3,
     "metadata": {},
     "output_type": "execute_result"
    }
   ],
   "source": [
    "df_est = pd.read_excel(ESTACIONES_XLSX, sheet_name=1, header=1, parse_dates=['Año hid'])\n",
    "df_est.head()"
   ]
  },
  {
   "cell_type": "code",
   "execution_count": 4,
   "metadata": {},
   "outputs": [],
   "source": [
    "from datetime import datetime as dt\n",
    "\n",
    "df_pred = df_est[['Año hid', 'San Luis Tucuman']].rename(columns={'Año hid':'ds', 'San Luis Tucuman':'y'})\n",
    "df_pred = df_pred[df_pred.ds >= dt(1965, 1, 1)]\n",
    "df_pred = df_pred.fillna(df_pred.y.mean())"
   ]
  },
  {
   "cell_type": "code",
   "execution_count": 5,
   "metadata": {},
   "outputs": [],
   "source": [
    "df_train, df_test = df_pred[:-10], df_pred[-10:]"
   ]
  },
  {
   "cell_type": "markdown",
   "metadata": {},
   "source": [
    "# Asi nomas"
   ]
  },
  {
   "cell_type": "code",
   "execution_count": 6,
   "metadata": {},
   "outputs": [
    {
     "name": "stderr",
     "output_type": "stream",
     "text": [
      "INFO:fbprophet:n_changepoints greater than number of observations. Using 23.\n"
     ]
    },
    {
     "data": {
      "text/plain": [
       "29.794187554580457"
      ]
     },
     "execution_count": 6,
     "metadata": {},
     "output_type": "execute_result"
    }
   ],
   "source": [
    "m = Prophet(growth='linear',\n",
    "            yearly_seasonality=True,\n",
    "            weekly_seasonality=False,\n",
    "            daily_seasonality=False,\n",
    "            n_changepoints=25,\n",
    "            seasonality_mode='multiplicative',\n",
    "            mcmc_samples=0)\n",
    "m.fit(df_train)\n",
    "future = m.make_future_dataframe(periods=10, freq='YS')\n",
    "fcst = m.predict(future)\n",
    "mean_absolute_error(df_test.y, fcst[-10:].yhat)"
   ]
  },
  {
   "cell_type": "code",
   "execution_count": 7,
   "metadata": {},
   "outputs": [],
   "source": [
    "fcst[-10:][['yhat']].reset_index(drop=True).to_csv(os.path.join(PREDICTIONS_FOLDER, 'simple_prophecy.csv'), header=False)"
   ]
  }
 ],
 "metadata": {
  "kernelspec": {
   "display_name": "Python 3",
   "language": "python",
   "name": "python3"
  },
  "language_info": {
   "codemirror_mode": {
    "name": "ipython",
    "version": 3
   },
   "file_extension": ".py",
   "mimetype": "text/x-python",
   "name": "python",
   "nbconvert_exporter": "python",
   "pygments_lexer": "ipython3",
   "version": "3.7.4"
  }
 },
 "nbformat": 4,
 "nbformat_minor": 4
}
